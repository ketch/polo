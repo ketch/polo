{
 "metadata": {
  "name": "",
  "signature": "sha256:611a5c2afca87056004674377bf8f0a0184df259deaaea76e70ebd83d628ef1e"
 },
 "nbformat": 3,
 "nbformat_minor": 0,
 "worksheets": [
  {
   "cells": [
    {
     "cell_type": "code",
     "collapsed": false,
     "input": [
      "%matplotlib nbagg\n",
      "import matplotlib.pyplot as plt\n",
      "import numpy as np\n",
      "import matplotlib\n",
      "from matplotlib import animation\n",
      "from IPython.html.widgets import interact, interactive, fixed\n",
      "from IPython.html import widgets\n",
      "from IPython.display import clear_output, display, HTML"
     ],
     "language": "python",
     "metadata": {},
     "outputs": []
    },
    {
     "cell_type": "code",
     "collapsed": false,
     "input": [
      "import polo\n",
      "import demo"
     ],
     "language": "python",
     "metadata": {},
     "outputs": []
    },
    {
     "cell_type": "code",
     "collapsed": false,
     "input": [
      "df = demo.generate_data()"
     ],
     "language": "python",
     "metadata": {},
     "outputs": []
    },
    {
     "cell_type": "code",
     "collapsed": false,
     "input": [
      "facets = {'subplot' : 'nx',\n",
      "          'line' : 'solver_type',\n",
      "          'slider' : 'time'}\n",
      "\n",
      "dfb = df[(df['weno_order']==5) | np.isnan(df['weno_order'])]\n",
      "fig = plt.figure(figsize=(8,6))"
     ],
     "language": "python",
     "metadata": {},
     "outputs": []
    },
    {
     "cell_type": "code",
     "collapsed": false,
     "input": [
      "polo.comparison_plot(dfb,fig,facets);"
     ],
     "language": "python",
     "metadata": {},
     "outputs": []
    },
    {
     "cell_type": "heading",
     "level": 1,
     "metadata": {},
     "source": [
      "Multiple sliders"
     ]
    },
    {
     "cell_type": "code",
     "collapsed": false,
     "input": [
      "facets = {'subplot' : None,\n",
      "        'line' : 'solver_type',\n",
      "        'slider' : ['time','nx']}\n",
      "\n",
      "fig = plt.figure(figsize=(10,6))"
     ],
     "language": "python",
     "metadata": {},
     "outputs": []
    },
    {
     "cell_type": "code",
     "collapsed": false,
     "input": [
      "polo.comparison_plot(dfb,fig,facets);"
     ],
     "language": "python",
     "metadata": {},
     "outputs": []
    },
    {
     "cell_type": "code",
     "collapsed": false,
     "input": [
      "facets = {'subplot' : None,\n",
      "        'line' : None,\n",
      "        'slider' : ['time','nx','solver_type']}\n",
      "\n",
      "fig = plt.figure(figsize=(10,6))"
     ],
     "language": "python",
     "metadata": {},
     "outputs": []
    },
    {
     "cell_type": "code",
     "collapsed": false,
     "input": [
      "polo.comparison_plot(dfb,fig,facets);"
     ],
     "language": "python",
     "metadata": {},
     "outputs": []
    },
    {
     "cell_type": "heading",
     "level": 1,
     "metadata": {},
     "source": [
      "Restrict to a subset of the data"
     ]
    },
    {
     "cell_type": "code",
     "collapsed": false,
     "input": [
      "facets = {'subplot' : 'nx',\n",
      "          'line' : ('solver_type',('classic',)),\n",
      "          'slider' : 'time'}\n",
      "\n",
      "fig = plt.figure(figsize=(10,6))"
     ],
     "language": "python",
     "metadata": {},
     "outputs": []
    },
    {
     "cell_type": "code",
     "collapsed": false,
     "input": [
      "polo.comparison_plot(dfb,fig,facets);"
     ],
     "language": "python",
     "metadata": {},
     "outputs": []
    },
    {
     "cell_type": "heading",
     "level": 1,
     "metadata": {},
     "source": [
      "Mixing it up"
     ]
    },
    {
     "cell_type": "code",
     "collapsed": false,
     "input": [
      "facets = {'subplot' : 'nx',\n",
      "          'line' : 'time',\n",
      "          'slider' : 'solver_type'}\n",
      "\n",
      "fig = plt.figure(figsize=(10,6))"
     ],
     "language": "python",
     "metadata": {},
     "outputs": []
    },
    {
     "cell_type": "code",
     "collapsed": false,
     "input": [
      "polo.comparison_plot(dfb,fig,facets);"
     ],
     "language": "python",
     "metadata": {},
     "outputs": []
    },
    {
     "cell_type": "code",
     "collapsed": false,
     "input": [
      "facets = {'subplot' : 'solver_type',\n",
      "          'line' : 'time',\n",
      "          'slider' : 'nx'}\n",
      "\n",
      "fig = plt.figure(figsize=(10,6))"
     ],
     "language": "python",
     "metadata": {},
     "outputs": []
    },
    {
     "cell_type": "code",
     "collapsed": false,
     "input": [
      "polo.comparison_plot(dfb,fig,facets);"
     ],
     "language": "python",
     "metadata": {},
     "outputs": []
    },
    {
     "cell_type": "code",
     "collapsed": false,
     "input": [
      "facets = {'subplot' : 'time',\n",
      "          'line' : 'solver_type',\n",
      "          'slider' : 'nx'}\n",
      "\n",
      "fig = plt.figure(figsize=(10,6))"
     ],
     "language": "python",
     "metadata": {},
     "outputs": []
    },
    {
     "cell_type": "code",
     "collapsed": false,
     "input": [
      "polo.comparison_plot(dfb,fig,facets);"
     ],
     "language": "python",
     "metadata": {},
     "outputs": []
    },
    {
     "cell_type": "code",
     "collapsed": false,
     "input": [
      "facets = {'subplot' : 'time',\n",
      "          'line' : 'nx',\n",
      "          'slider' : 'solver_type'}\n",
      "\n",
      "fig = plt.figure(figsize=(10,6))"
     ],
     "language": "python",
     "metadata": {},
     "outputs": []
    },
    {
     "cell_type": "code",
     "collapsed": false,
     "input": [
      "polo.comparison_plot(dfb,fig,facets);"
     ],
     "language": "python",
     "metadata": {},
     "outputs": []
    },
    {
     "cell_type": "code",
     "collapsed": false,
     "input": [
      "facets = {'subplot' : 'nx',\n",
      "          'line' : 'time',\n",
      "          'slider' : 'solver_type'}\n",
      "\n",
      "fig = plt.figure(figsize=(10,6))"
     ],
     "language": "python",
     "metadata": {},
     "outputs": []
    },
    {
     "cell_type": "code",
     "collapsed": false,
     "input": [
      "polo.comparison_plot(dfb,fig,facets);"
     ],
     "language": "python",
     "metadata": {},
     "outputs": []
    },
    {
     "cell_type": "heading",
     "level": 1,
     "metadata": {},
     "source": [
      "Comparing over fewer dimensions"
     ]
    },
    {
     "cell_type": "markdown",
     "metadata": {},
     "source": [
      "Fix the time:"
     ]
    },
    {
     "cell_type": "code",
     "collapsed": false,
     "input": [
      "df2 = dfb[dfb['time']==0.5]\n",
      "df2.head()"
     ],
     "language": "python",
     "metadata": {},
     "outputs": []
    },
    {
     "cell_type": "code",
     "collapsed": false,
     "input": [
      "facets = {'subplot' : 'nx',\n",
      "          'line' : 'solver_type',\n",
      "          'slider' : None}\n",
      "\n",
      "fig = plt.figure(figsize=(10,6))"
     ],
     "language": "python",
     "metadata": {},
     "outputs": []
    },
    {
     "cell_type": "code",
     "collapsed": false,
     "input": [
      "polo.comparison_plot(df2,fig,facets);"
     ],
     "language": "python",
     "metadata": {},
     "outputs": []
    },
    {
     "cell_type": "code",
     "collapsed": false,
     "input": [
      "facets = {'subplot' : None,\n",
      "          'line' : 'solver_type',\n",
      "          'slider' : 'nx'}\n",
      "\n",
      "fig = plt.figure(figsize=(10,6))"
     ],
     "language": "python",
     "metadata": {},
     "outputs": []
    },
    {
     "cell_type": "code",
     "collapsed": false,
     "input": [
      "polo.comparison_plot(df2,fig,facets);"
     ],
     "language": "python",
     "metadata": {},
     "outputs": []
    },
    {
     "cell_type": "code",
     "collapsed": false,
     "input": [
      "facets = {'subplot' : 'solver_type',\n",
      "          'line' : None,\n",
      "          'slider' : 'nx'}\n",
      "\n",
      "fig = plt.figure(figsize=(10,6))"
     ],
     "language": "python",
     "metadata": {},
     "outputs": []
    },
    {
     "cell_type": "code",
     "collapsed": false,
     "input": [
      "polo.comparison_plot(df2,fig,facets);"
     ],
     "language": "python",
     "metadata": {},
     "outputs": []
    },
    {
     "cell_type": "markdown",
     "metadata": {},
     "source": [
      "The same can be achieved via:"
     ]
    },
    {
     "cell_type": "code",
     "collapsed": false,
     "input": [
      "facets = {'subplot' : 'solver_type',\n",
      "          'line' : ('time',(0.5,)),\n",
      "          'slider' : 'nx'}\n",
      "\n",
      "fig = plt.figure(figsize=(10,6))"
     ],
     "language": "python",
     "metadata": {},
     "outputs": []
    },
    {
     "cell_type": "code",
     "collapsed": false,
     "input": [
      "polo.comparison_plot(dfb,fig,facets);"
     ],
     "language": "python",
     "metadata": {},
     "outputs": []
    },
    {
     "cell_type": "code",
     "collapsed": false,
     "input": [],
     "language": "python",
     "metadata": {},
     "outputs": []
    }
   ],
   "metadata": {}
  }
 ]
}