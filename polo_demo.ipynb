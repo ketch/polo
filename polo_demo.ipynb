{
 "cells": [
  {
   "cell_type": "markdown",
   "metadata": {},
   "source": [
    ">Note: This notebook works with IPython 4.2.0, matplotlib 1.5.1, and ipywidgets 5.1.3"
   ]
  },
  {
   "cell_type": "code",
   "execution_count": null,
   "metadata": {
    "collapsed": false
   },
   "outputs": [],
   "source": [
    "%matplotlib notebook\n",
    "import matplotlib.pyplot as plt\n",
    "import numpy as np\n",
    "import polo\n",
    "import demo"
   ]
  },
  {
   "cell_type": "markdown",
   "metadata": {},
   "source": [
    "Let's generate some demonstration data from a set of PyClaw runs:"
   ]
  },
  {
   "cell_type": "code",
   "execution_count": null,
   "metadata": {
    "collapsed": false
   },
   "outputs": [],
   "source": [
    "data = demo.generate_data()\n",
    "print data.head()"
   ]
  },
  {
   "cell_type": "markdown",
   "metadata": {},
   "source": [
    "Here `data` is a Pandas DataFrame; each row corresponds to one output time from a PyClaw simulation.  The simulations have been run with a variety of algorithms and grid sizes.\n",
    "\n",
    "Let's examine the data from the 5th-order WENO and the 2nd-order TVD runs.  We'll use different plots for each value of `nx` (the number of grid cells)"
   ]
  },
  {
   "cell_type": "code",
   "execution_count": null,
   "metadata": {
    "collapsed": false
   },
   "outputs": [],
   "source": [
    "facets = {'subplot' : 'nx',\n",
    "          'line' : 'solver_type',\n",
    "          'slider' : 'time'}\n",
    "\n",
    "# Select only rows for WENO5 and TVD runs\n",
    "tvd_weno5 = data[(data['weno_order']==5) | np.isnan(data['weno_order'])]\n",
    "fig = plt.figure(figsize=(8,6))\n",
    "polo.comparison_plot(tvd_weno5,fig,facets);"
   ]
  },
  {
   "cell_type": "markdown",
   "metadata": {},
   "source": [
    "Play with the slider above to see the difference between the two method solutions at various times."
   ]
  },
  {
   "cell_type": "markdown",
   "metadata": {},
   "source": [
    "# Multiple sliders\n",
    "We can include sliders to adjust two or more parameters separately."
   ]
  },
  {
   "cell_type": "code",
   "execution_count": null,
   "metadata": {
    "collapsed": false
   },
   "outputs": [],
   "source": [
    "facets = {'subplot' : None,\n",
    "        'line' : 'solver_type',\n",
    "        'slider' : ['time','nx']}\n",
    "\n",
    "fig = plt.figure(figsize=(10,6))\n",
    "polo.comparison_plot(tvd_weno5,fig,facets)"
   ]
  },
  {
   "cell_type": "code",
   "execution_count": null,
   "metadata": {
    "collapsed": false
   },
   "outputs": [],
   "source": [
    "facets = {'subplot' : None,\n",
    "        'line' : None,\n",
    "        'slider' : ['time','nx','solver_type']}\n",
    "\n",
    "fig = plt.figure(figsize=(10,6))\n",
    "polo.comparison_plot(tvd_weno5,fig,facets);"
   ]
  },
  {
   "cell_type": "markdown",
   "metadata": {},
   "source": [
    "# Restrict to a subset of the data\n",
    "In the examples above, the `facets` dictionary values correspond to column headings in the dataframe.  We can further filter by setting one of the `facets` dictionary values to a tuple, whose first value is the column heading and whose second value is a tuple containing all the values for the rows we want to include.  So we can get just the solutions computed with the Classic algorithm, for example:"
   ]
  },
  {
   "cell_type": "code",
   "execution_count": null,
   "metadata": {
    "collapsed": false
   },
   "outputs": [],
   "source": [
    "facets = {'subplot' : 'nx',\n",
    "          'line' : ('solver_type',('classic',)),\n",
    "          'slider' : 'time'}\n",
    "\n",
    "fig = plt.figure(figsize=(10,6))\n",
    "polo.comparison_plot(data,fig,facets);"
   ]
  },
  {
   "cell_type": "markdown",
   "metadata": {},
   "source": [
    "# Mixing it up\n",
    "Any property can be varied over subplots, line plots within a subplot, or via a slider.  Here are some combinations for the current dataset."
   ]
  },
  {
   "cell_type": "code",
   "execution_count": null,
   "metadata": {
    "collapsed": false
   },
   "outputs": [],
   "source": [
    "facets = {'subplot' : 'nx',\n",
    "          'line' : 'time',\n",
    "          'slider' : 'solver_type'}\n",
    "\n",
    "fig = plt.figure(figsize=(10,6))\n",
    "polo.comparison_plot(tvd_weno5,fig,facets);"
   ]
  },
  {
   "cell_type": "code",
   "execution_count": null,
   "metadata": {
    "collapsed": false
   },
   "outputs": [],
   "source": [
    "facets = {'subplot' : 'solver_type',\n",
    "          'line' : 'time',\n",
    "          'slider' : 'nx'}\n",
    "\n",
    "fig = plt.figure(figsize=(10,6))\n",
    "polo.comparison_plot(tvd_weno5,fig,facets);"
   ]
  },
  {
   "cell_type": "code",
   "execution_count": null,
   "metadata": {
    "collapsed": false
   },
   "outputs": [],
   "source": [
    "facets = {'subplot' : 'time',\n",
    "          'line' : 'solver_type',\n",
    "          'slider' : 'nx'}\n",
    "\n",
    "fig = plt.figure(figsize=(10,6))\n",
    "polo.comparison_plot(tvd_weno5,fig,facets);"
   ]
  },
  {
   "cell_type": "code",
   "execution_count": null,
   "metadata": {
    "collapsed": false
   },
   "outputs": [],
   "source": [
    "facets = {'subplot' : 'time',\n",
    "          'line' : 'nx',\n",
    "          'slider' : 'solver_type'}\n",
    "\n",
    "fig = plt.figure(figsize=(10,6))\n",
    "polo.comparison_plot(tvd_weno5,fig,facets);"
   ]
  },
  {
   "cell_type": "code",
   "execution_count": null,
   "metadata": {
    "collapsed": false
   },
   "outputs": [],
   "source": [
    "facets = {'subplot' : 'nx',\n",
    "          'line' : 'time',\n",
    "          'slider' : 'solver_type'}\n",
    "\n",
    "fig = plt.figure(figsize=(10,6))\n",
    "polo.comparison_plot(tvd_weno5,fig,facets);"
   ]
  },
  {
   "cell_type": "markdown",
   "metadata": {},
   "source": [
    "# Comparing over fewer dimensions"
   ]
  },
  {
   "cell_type": "markdown",
   "metadata": {},
   "source": [
    "We can filter to get solutions only at time $t=0.5$:"
   ]
  },
  {
   "cell_type": "code",
   "execution_count": null,
   "metadata": {
    "collapsed": false
   },
   "outputs": [],
   "source": [
    "t05 = tvd_weno5[tvd_weno5['time']==0.5]\n",
    "t05.head()"
   ]
  },
  {
   "cell_type": "code",
   "execution_count": null,
   "metadata": {
    "collapsed": false
   },
   "outputs": [],
   "source": [
    "facets = {'subplot' : 'nx',\n",
    "          'line' : 'solver_type'}\n",
    "\n",
    "fig = plt.figure(figsize=(10,6))\n",
    "polo.comparison_plot(t05,fig,facets);"
   ]
  },
  {
   "cell_type": "code",
   "execution_count": null,
   "metadata": {
    "collapsed": false
   },
   "outputs": [],
   "source": [
    "facets = {'line' : 'solver_type',\n",
    "          'slider' : 'nx'}\n",
    "\n",
    "fig = plt.figure(figsize=(10,6))\n",
    "polo.comparison_plot(t05,fig,facets);"
   ]
  },
  {
   "cell_type": "code",
   "execution_count": null,
   "metadata": {
    "collapsed": false
   },
   "outputs": [],
   "source": [
    "facets = {'subplot' : 'solver_type',\n",
    "          'slider' : 'nx'}\n",
    "\n",
    "fig = plt.figure(figsize=(10,6))\n",
    "\n",
    "polo.comparison_plot(t05,fig,facets);"
   ]
  },
  {
   "cell_type": "markdown",
   "metadata": {},
   "source": [
    "The same can be achieved via:"
   ]
  },
  {
   "cell_type": "code",
   "execution_count": null,
   "metadata": {
    "collapsed": false
   },
   "outputs": [],
   "source": [
    "facets = {'subplot' : 'solver_type',\n",
    "          'line' : ('time',(0.5,)),\n",
    "          'slider' : 'nx'}\n",
    "\n",
    "fig = plt.figure(figsize=(10,6))\n",
    "\n",
    "polo.comparison_plot(tvd_weno5,fig,facets);"
   ]
  },
  {
   "cell_type": "markdown",
   "metadata": {
    "collapsed": false
   },
   "source": [
    "# Manipulating the data\n",
    "What if we want to plot some function of the data, instead of the data itself?  We just define the function we want; as a simple example let's subtract 1 from the solution values:"
   ]
  },
  {
   "cell_type": "code",
   "execution_count": null,
   "metadata": {
    "collapsed": true
   },
   "outputs": [],
   "source": [
    "def q_minus_one(row):\n",
    "    r\"\"\"Subtract 1 from q.\"\"\"\n",
    "    sol = row.data[row.index[0]]\n",
    "    xc = sol.state.grid.p_centers[0] + 0\n",
    "    q = sol.state.q[0,:] - 1\n",
    "    return xc, q"
   ]
  },
  {
   "cell_type": "code",
   "execution_count": null,
   "metadata": {
    "collapsed": false
   },
   "outputs": [],
   "source": [
    "facets = {'subplot' : 'nx',\n",
    "          'line' : 'solver_type',\n",
    "          'slider' : 'time'}\n",
    "\n",
    "fig = plt.figure(figsize=(8,6))\n",
    "\n",
    "polo.comparison_plot(tvd_weno5,fig,facets,data_fun = q_minus_one,ylim=(-1.1,0.1));"
   ]
  },
  {
   "cell_type": "markdown",
   "metadata": {},
   "source": [
    "# Plotting scalar functionals\n",
    "Sometimes we are interested in a functional of the data, such as the total mass, the total energy, or the average of some quantity.  This should work similarly, but is not implemented correctly yet."
   ]
  },
  {
   "cell_type": "code",
   "execution_count": null,
   "metadata": {
    "collapsed": true
   },
   "outputs": [],
   "source": [
    "def total_mass(row):\n",
    "    r\"\"\"Get data for 1D PyClaw results.\"\"\"\n",
    "    sol = row.data[row.index[0]]\n",
    "    time = row['time']\n",
    "    xc = sol.state.grid.p_centers[0] + 0\n",
    "    q = sol.state.q[0,:]\n",
    "    dx = sol.state.grid.delta[0]\n",
    "    mass = np.sum(q)*dx\n",
    "    return time, mass"
   ]
  },
  {
   "cell_type": "code",
   "execution_count": null,
   "metadata": {
    "collapsed": false,
    "scrolled": true
   },
   "outputs": [],
   "source": [
    "facets = {'subplot' : 'nx',\n",
    "          'line' : 'solver_type',\n",
    "          'slider' : 'time'}\n",
    "\n",
    "fig = plt.figure(figsize=(8,6))\n",
    "\n",
    "polo.comparison_plot(tvd_weno5,fig,facets,data_fun = total_mass);"
   ]
  }
 ],
 "metadata": {
  "kernelspec": {
   "display_name": "Python 2",
   "language": "python",
   "name": "python2"
  },
  "language_info": {
   "codemirror_mode": {
    "name": "ipython",
    "version": 2
   },
   "file_extension": ".py",
   "mimetype": "text/x-python",
   "name": "python",
   "nbconvert_exporter": "python",
   "pygments_lexer": "ipython2",
   "version": "2.7.9"
  },
  "widgets": {
   "state": {},
   "version": "1.1.1"
  }
 },
 "nbformat": 4,
 "nbformat_minor": 0
}
